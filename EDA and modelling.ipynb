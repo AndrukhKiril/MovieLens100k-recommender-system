{
 "cells": [
  {
   "cell_type": "markdown",
   "metadata": {},
   "source": [
    "# Building movie recomendation machine learning models\n",
    "\n",
    "To strengthen my skills in Machine Learning adn Exploratory Data Analysis, I will try to use Movie Lens 100k dataset to build "
   ]
  },
  {
   "cell_type": "markdown",
   "metadata": {},
   "source": [
    "### Contents:\n",
    "\n",
    "1. [Imports & Exploratory Data Analasysis](#imports--exploratory-data-analysis)\n",
    "2. [KNN](#knn)\n",
    "    1. [Data preparation](#data-preprocessing)\n",
    "    2. [Model](#model)\n",
    "    3. [Testing](#testing)\n",
    "3. SVD\n",
    "    1. Data preparation\n",
    "    2. Model\n",
    "    3. Testing"
   ]
  },
  {
   "cell_type": "markdown",
   "metadata": {},
   "source": [
    "## Imports & Exploratory Data Analysis"
   ]
  },
  {
   "cell_type": "code",
   "execution_count": 1,
   "metadata": {},
   "outputs": [],
   "source": [
    "import pandas as pd\n",
    "import numpy as np\n",
    "\n",
    "import matplotlib.pyplot as plt\n",
    "%matplotlib inline\n",
    "\n",
    "import seaborn as sns\n",
    "\n",
    "from sklearn.model_selection import train_test_split\n",
    "\n",
    "from fuzzywuzzy import process"
   ]
  },
  {
   "cell_type": "markdown",
   "metadata": {},
   "source": [
    "### Datasets and their nan values"
   ]
  },
  {
   "cell_type": "code",
   "execution_count": 2,
   "metadata": {},
   "outputs": [
    {
     "name": "stdout",
     "output_type": "stream",
     "text": [
      "\n",
      "There are 943 users\n"
     ]
    },
    {
     "data": {
      "text/html": [
       "<div>\n",
       "<style scoped>\n",
       "    .dataframe tbody tr th:only-of-type {\n",
       "        vertical-align: middle;\n",
       "    }\n",
       "\n",
       "    .dataframe tbody tr th {\n",
       "        vertical-align: top;\n",
       "    }\n",
       "\n",
       "    .dataframe thead th {\n",
       "        text-align: right;\n",
       "    }\n",
       "</style>\n",
       "<table border=\"1\" class=\"dataframe\">\n",
       "  <thead>\n",
       "    <tr style=\"text-align: right;\">\n",
       "      <th></th>\n",
       "      <th>user id</th>\n",
       "      <th>age</th>\n",
       "      <th>sex</th>\n",
       "      <th>occupation</th>\n",
       "      <th>zip code</th>\n",
       "    </tr>\n",
       "  </thead>\n",
       "  <tbody>\n",
       "    <tr>\n",
       "      <th>762</th>\n",
       "      <td>763</td>\n",
       "      <td>27</td>\n",
       "      <td>M</td>\n",
       "      <td>scientist</td>\n",
       "      <td>02113</td>\n",
       "    </tr>\n",
       "    <tr>\n",
       "      <th>817</th>\n",
       "      <td>818</td>\n",
       "      <td>28</td>\n",
       "      <td>M</td>\n",
       "      <td>librarian</td>\n",
       "      <td>27514</td>\n",
       "    </tr>\n",
       "    <tr>\n",
       "      <th>28</th>\n",
       "      <td>29</td>\n",
       "      <td>41</td>\n",
       "      <td>M</td>\n",
       "      <td>programmer</td>\n",
       "      <td>94043</td>\n",
       "    </tr>\n",
       "    <tr>\n",
       "      <th>619</th>\n",
       "      <td>620</td>\n",
       "      <td>18</td>\n",
       "      <td>F</td>\n",
       "      <td>writer</td>\n",
       "      <td>81648</td>\n",
       "    </tr>\n",
       "    <tr>\n",
       "      <th>665</th>\n",
       "      <td>666</td>\n",
       "      <td>44</td>\n",
       "      <td>M</td>\n",
       "      <td>administrator</td>\n",
       "      <td>61820</td>\n",
       "    </tr>\n",
       "  </tbody>\n",
       "</table>\n",
       "</div>"
      ],
      "text/plain": [
       "     user id  age sex     occupation zip code\n",
       "762      763   27   M      scientist    02113\n",
       "817      818   28   M      librarian    27514\n",
       "28        29   41   M     programmer    94043\n",
       "619      620   18   F         writer    81648\n",
       "665      666   44   M  administrator    61820"
      ]
     },
     "execution_count": 2,
     "metadata": {},
     "output_type": "execute_result"
    }
   ],
   "source": [
    "users = pd.read_csv('ml-100k\\\\u.user', sep='|', names=['user id', 'age', 'sex', 'occupation', 'zip code'])\n",
    "\n",
    "print(f'\\nThere are {users.shape[0]} users')\n",
    "users.sample(5)"
   ]
  },
  {
   "cell_type": "code",
   "execution_count": 3,
   "metadata": {},
   "outputs": [
    {
     "name": "stdout",
     "output_type": "stream",
     "text": [
      "There are 943 items in the dataset\n",
      "\n"
     ]
    },
    {
     "data": {
      "text/plain": [
       "user id       0\n",
       "age           0\n",
       "sex           0\n",
       "occupation    0\n",
       "zip code      0\n",
       "dtype: int64"
      ]
     },
     "execution_count": 3,
     "metadata": {},
     "output_type": "execute_result"
    }
   ],
   "source": [
    "print('There are', users.shape[0], 'items in the dataset\\n')\n",
    "\n",
    "users.isna().sum()"
   ]
  },
  {
   "cell_type": "code",
   "execution_count": 4,
   "metadata": {},
   "outputs": [
    {
     "name": "stdout",
     "output_type": "stream",
     "text": [
      "There are 100000 items in ratings dataset\n"
     ]
    },
    {
     "data": {
      "text/html": [
       "<div>\n",
       "<style scoped>\n",
       "    .dataframe tbody tr th:only-of-type {\n",
       "        vertical-align: middle;\n",
       "    }\n",
       "\n",
       "    .dataframe tbody tr th {\n",
       "        vertical-align: top;\n",
       "    }\n",
       "\n",
       "    .dataframe thead th {\n",
       "        text-align: right;\n",
       "    }\n",
       "</style>\n",
       "<table border=\"1\" class=\"dataframe\">\n",
       "  <thead>\n",
       "    <tr style=\"text-align: right;\">\n",
       "      <th></th>\n",
       "      <th>user id</th>\n",
       "      <th>movie id</th>\n",
       "      <th>rating</th>\n",
       "      <th>unix timestamp</th>\n",
       "    </tr>\n",
       "  </thead>\n",
       "  <tbody>\n",
       "    <tr>\n",
       "      <th>15670</th>\n",
       "      <td>181</td>\n",
       "      <td>884</td>\n",
       "      <td>1</td>\n",
       "      <td>878961847</td>\n",
       "    </tr>\n",
       "    <tr>\n",
       "      <th>79596</th>\n",
       "      <td>830</td>\n",
       "      <td>202</td>\n",
       "      <td>5</td>\n",
       "      <td>891464148</td>\n",
       "    </tr>\n",
       "    <tr>\n",
       "      <th>9</th>\n",
       "      <td>1</td>\n",
       "      <td>10</td>\n",
       "      <td>3</td>\n",
       "      <td>875693118</td>\n",
       "    </tr>\n",
       "    <tr>\n",
       "      <th>42789</th>\n",
       "      <td>417</td>\n",
       "      <td>99</td>\n",
       "      <td>4</td>\n",
       "      <td>879647498</td>\n",
       "    </tr>\n",
       "    <tr>\n",
       "      <th>60576</th>\n",
       "      <td>606</td>\n",
       "      <td>25</td>\n",
       "      <td>5</td>\n",
       "      <td>878149689</td>\n",
       "    </tr>\n",
       "    <tr>\n",
       "      <th>11425</th>\n",
       "      <td>119</td>\n",
       "      <td>449</td>\n",
       "      <td>5</td>\n",
       "      <td>874782190</td>\n",
       "    </tr>\n",
       "    <tr>\n",
       "      <th>311</th>\n",
       "      <td>32</td>\n",
       "      <td>151</td>\n",
       "      <td>3</td>\n",
       "      <td>883717850</td>\n",
       "    </tr>\n",
       "    <tr>\n",
       "      <th>73747</th>\n",
       "      <td>756</td>\n",
       "      <td>323</td>\n",
       "      <td>3</td>\n",
       "      <td>874832096</td>\n",
       "    </tr>\n",
       "    <tr>\n",
       "      <th>37878</th>\n",
       "      <td>382</td>\n",
       "      <td>639</td>\n",
       "      <td>3</td>\n",
       "      <td>875946881</td>\n",
       "    </tr>\n",
       "    <tr>\n",
       "      <th>43860</th>\n",
       "      <td>429</td>\n",
       "      <td>217</td>\n",
       "      <td>3</td>\n",
       "      <td>882387715</td>\n",
       "    </tr>\n",
       "  </tbody>\n",
       "</table>\n",
       "</div>"
      ],
      "text/plain": [
       "       user id  movie id  rating  unix timestamp\n",
       "15670      181       884       1       878961847\n",
       "79596      830       202       5       891464148\n",
       "9            1        10       3       875693118\n",
       "42789      417        99       4       879647498\n",
       "60576      606        25       5       878149689\n",
       "11425      119       449       5       874782190\n",
       "311         32       151       3       883717850\n",
       "73747      756       323       3       874832096\n",
       "37878      382       639       3       875946881\n",
       "43860      429       217       3       882387715"
      ]
     },
     "execution_count": 4,
     "metadata": {},
     "output_type": "execute_result"
    }
   ],
   "source": [
    "rating_cols = ['user id', 'movie id', 'rating', 'unix timestamp']\n",
    "\n",
    "ratings_base = pd.read_csv('ml-100k\\\\ua.base', sep='\\t', names=rating_cols)\n",
    "ratings_test = pd.read_csv('ml-100k\\\\ua.test', sep='\\t', names=rating_cols)\n",
    "\n",
    "ratings = pd.concat([ratings_base, ratings_test])\n",
    "\n",
    "print(f'There are {ratings.shape[0]} items in ratings dataset')\n",
    "\n",
    "ratings.sample(10)"
   ]
  },
  {
   "cell_type": "code",
   "execution_count": 5,
   "metadata": {},
   "outputs": [
    {
     "name": "stdout",
     "output_type": "stream",
     "text": [
      "user id           0\n",
      "movie id          0\n",
      "rating            0\n",
      "unix timestamp    0\n",
      "dtype: int64\n"
     ]
    }
   ],
   "source": [
    "print(ratings.isna().sum())"
   ]
  },
  {
   "cell_type": "markdown",
   "metadata": {},
   "source": [
    "There are no missing values in the user and ratings datasets, which is great."
   ]
  },
  {
   "cell_type": "code",
   "execution_count": 6,
   "metadata": {},
   "outputs": [
    {
     "data": {
      "text/html": [
       "<div>\n",
       "<style scoped>\n",
       "    .dataframe tbody tr th:only-of-type {\n",
       "        vertical-align: middle;\n",
       "    }\n",
       "\n",
       "    .dataframe tbody tr th {\n",
       "        vertical-align: top;\n",
       "    }\n",
       "\n",
       "    .dataframe thead th {\n",
       "        text-align: right;\n",
       "    }\n",
       "</style>\n",
       "<table border=\"1\" class=\"dataframe\">\n",
       "  <thead>\n",
       "    <tr style=\"text-align: right;\">\n",
       "      <th></th>\n",
       "      <th>movie id</th>\n",
       "      <th>movie title</th>\n",
       "      <th>release date</th>\n",
       "      <th>video release date</th>\n",
       "      <th>IMDb URL</th>\n",
       "      <th>unknown</th>\n",
       "      <th>Action</th>\n",
       "      <th>Adventure</th>\n",
       "      <th>Animation</th>\n",
       "      <th>Children's</th>\n",
       "      <th>...</th>\n",
       "      <th>Fantasy</th>\n",
       "      <th>Film-Noir</th>\n",
       "      <th>Horror</th>\n",
       "      <th>Musical</th>\n",
       "      <th>Mystery</th>\n",
       "      <th>Romance</th>\n",
       "      <th>Sci-Fi</th>\n",
       "      <th>Thriller</th>\n",
       "      <th>War</th>\n",
       "      <th>Western</th>\n",
       "    </tr>\n",
       "  </thead>\n",
       "  <tbody>\n",
       "    <tr>\n",
       "      <th>279</th>\n",
       "      <td>280</td>\n",
       "      <td>Up Close and Personal (1996)</td>\n",
       "      <td>01-Mar-1996</td>\n",
       "      <td>NaN</td>\n",
       "      <td>http://us.imdb.com/M/title-exact?Up%20Close%20...</td>\n",
       "      <td>0</td>\n",
       "      <td>0</td>\n",
       "      <td>0</td>\n",
       "      <td>0</td>\n",
       "      <td>0</td>\n",
       "      <td>...</td>\n",
       "      <td>0</td>\n",
       "      <td>0</td>\n",
       "      <td>0</td>\n",
       "      <td>0</td>\n",
       "      <td>0</td>\n",
       "      <td>1</td>\n",
       "      <td>0</td>\n",
       "      <td>0</td>\n",
       "      <td>0</td>\n",
       "      <td>0</td>\n",
       "    </tr>\n",
       "    <tr>\n",
       "      <th>1298</th>\n",
       "      <td>1299</td>\n",
       "      <td>Penny Serenade (1941)</td>\n",
       "      <td>01-Jan-1941</td>\n",
       "      <td>NaN</td>\n",
       "      <td>http://us.imdb.com/M/title-exact?Penny%20Seren...</td>\n",
       "      <td>0</td>\n",
       "      <td>0</td>\n",
       "      <td>0</td>\n",
       "      <td>0</td>\n",
       "      <td>0</td>\n",
       "      <td>...</td>\n",
       "      <td>0</td>\n",
       "      <td>0</td>\n",
       "      <td>0</td>\n",
       "      <td>0</td>\n",
       "      <td>0</td>\n",
       "      <td>1</td>\n",
       "      <td>0</td>\n",
       "      <td>0</td>\n",
       "      <td>0</td>\n",
       "      <td>0</td>\n",
       "    </tr>\n",
       "    <tr>\n",
       "      <th>1425</th>\n",
       "      <td>1426</td>\n",
       "      <td>Grace of My Heart (1996)</td>\n",
       "      <td>13-Sep-1996</td>\n",
       "      <td>NaN</td>\n",
       "      <td>http://us.imdb.com/M/title-exact?Grace%20of%20...</td>\n",
       "      <td>0</td>\n",
       "      <td>0</td>\n",
       "      <td>0</td>\n",
       "      <td>0</td>\n",
       "      <td>0</td>\n",
       "      <td>...</td>\n",
       "      <td>0</td>\n",
       "      <td>0</td>\n",
       "      <td>0</td>\n",
       "      <td>0</td>\n",
       "      <td>0</td>\n",
       "      <td>0</td>\n",
       "      <td>0</td>\n",
       "      <td>0</td>\n",
       "      <td>0</td>\n",
       "      <td>0</td>\n",
       "    </tr>\n",
       "    <tr>\n",
       "      <th>1640</th>\n",
       "      <td>1641</td>\n",
       "      <td>Dadetown (1995)</td>\n",
       "      <td>18-Sep-1996</td>\n",
       "      <td>NaN</td>\n",
       "      <td>http://us.imdb.com/M/title-exact?Dadetown%20(1...</td>\n",
       "      <td>0</td>\n",
       "      <td>0</td>\n",
       "      <td>0</td>\n",
       "      <td>0</td>\n",
       "      <td>0</td>\n",
       "      <td>...</td>\n",
       "      <td>0</td>\n",
       "      <td>0</td>\n",
       "      <td>0</td>\n",
       "      <td>0</td>\n",
       "      <td>0</td>\n",
       "      <td>0</td>\n",
       "      <td>0</td>\n",
       "      <td>0</td>\n",
       "      <td>0</td>\n",
       "      <td>0</td>\n",
       "    </tr>\n",
       "    <tr>\n",
       "      <th>508</th>\n",
       "      <td>509</td>\n",
       "      <td>My Left Foot (1989)</td>\n",
       "      <td>01-Jan-1989</td>\n",
       "      <td>NaN</td>\n",
       "      <td>http://us.imdb.com/M/title-exact?My%20Left%20F...</td>\n",
       "      <td>0</td>\n",
       "      <td>0</td>\n",
       "      <td>0</td>\n",
       "      <td>0</td>\n",
       "      <td>0</td>\n",
       "      <td>...</td>\n",
       "      <td>0</td>\n",
       "      <td>0</td>\n",
       "      <td>0</td>\n",
       "      <td>0</td>\n",
       "      <td>0</td>\n",
       "      <td>0</td>\n",
       "      <td>0</td>\n",
       "      <td>0</td>\n",
       "      <td>0</td>\n",
       "      <td>0</td>\n",
       "    </tr>\n",
       "  </tbody>\n",
       "</table>\n",
       "<p>5 rows × 24 columns</p>\n",
       "</div>"
      ],
      "text/plain": [
       "      movie id                   movie title release date  video release date  \\\n",
       "279        280  Up Close and Personal (1996)  01-Mar-1996                 NaN   \n",
       "1298      1299         Penny Serenade (1941)  01-Jan-1941                 NaN   \n",
       "1425      1426      Grace of My Heart (1996)  13-Sep-1996                 NaN   \n",
       "1640      1641               Dadetown (1995)  18-Sep-1996                 NaN   \n",
       "508        509           My Left Foot (1989)  01-Jan-1989                 NaN   \n",
       "\n",
       "                                               IMDb URL  unknown  Action  \\\n",
       "279   http://us.imdb.com/M/title-exact?Up%20Close%20...        0       0   \n",
       "1298  http://us.imdb.com/M/title-exact?Penny%20Seren...        0       0   \n",
       "1425  http://us.imdb.com/M/title-exact?Grace%20of%20...        0       0   \n",
       "1640  http://us.imdb.com/M/title-exact?Dadetown%20(1...        0       0   \n",
       "508   http://us.imdb.com/M/title-exact?My%20Left%20F...        0       0   \n",
       "\n",
       "      Adventure  Animation  Children's  ...  Fantasy  Film-Noir  Horror  \\\n",
       "279           0          0           0  ...        0          0       0   \n",
       "1298          0          0           0  ...        0          0       0   \n",
       "1425          0          0           0  ...        0          0       0   \n",
       "1640          0          0           0  ...        0          0       0   \n",
       "508           0          0           0  ...        0          0       0   \n",
       "\n",
       "      Musical  Mystery  Romance  Sci-Fi  Thriller  War  Western  \n",
       "279         0        0        1       0         0    0        0  \n",
       "1298        0        0        1       0         0    0        0  \n",
       "1425        0        0        0       0         0    0        0  \n",
       "1640        0        0        0       0         0    0        0  \n",
       "508         0        0        0       0         0    0        0  \n",
       "\n",
       "[5 rows x 24 columns]"
      ]
     },
     "execution_count": 6,
     "metadata": {},
     "output_type": "execute_result"
    }
   ],
   "source": [
    "movies = pd.read_csv('ml-100k\\\\u.item', sep='|', names=['movie id', 'movie title' ,'release date','video release date', 'IMDb URL', 'unknown', 'Action', 'Adventure',\n",
    "                                                    'Animation', 'Children\\'s', 'Comedy', 'Crime', 'Documentary', 'Drama', 'Fantasy',\n",
    "                                                    'Film-Noir', 'Horror', 'Musical', 'Mystery', 'Romance', 'Sci-Fi', 'Thriller', 'War', 'Western'], encoding='latin-1')\n",
    "\n",
    "movies.sample(5)"
   ]
  },
  {
   "cell_type": "code",
   "execution_count": 7,
   "metadata": {},
   "outputs": [
    {
     "name": "stdout",
     "output_type": "stream",
     "text": [
      "There are 1682 items in movies dataset\n",
      "\n"
     ]
    },
    {
     "data": {
      "text/plain": [
       "movie id                 0\n",
       "movie title              0\n",
       "release date             1\n",
       "video release date    1682\n",
       "IMDb URL                 3\n",
       "unknown                  0\n",
       "Action                   0\n",
       "Adventure                0\n",
       "Animation                0\n",
       "Children's               0\n",
       "Comedy                   0\n",
       "Crime                    0\n",
       "Documentary              0\n",
       "Drama                    0\n",
       "Fantasy                  0\n",
       "Film-Noir                0\n",
       "Horror                   0\n",
       "Musical                  0\n",
       "Mystery                  0\n",
       "Romance                  0\n",
       "Sci-Fi                   0\n",
       "Thriller                 0\n",
       "War                      0\n",
       "Western                  0\n",
       "dtype: int64"
      ]
     },
     "execution_count": 7,
     "metadata": {},
     "output_type": "execute_result"
    }
   ],
   "source": [
    "print('There are', movies.shape[0], 'items in movies dataset\\n')\n",
    "\n",
    "movies.isna().sum()"
   ]
  },
  {
   "cell_type": "markdown",
   "metadata": {},
   "source": [
    "We don't have any data for **video release date**, so we can just get rid of the column since it doesn't provide any info for us, other than that there is only 1 missing value for **release date** and 3 missing values for **IMDB URL**, which we can simply delete."
   ]
  },
  {
   "cell_type": "code",
   "execution_count": 8,
   "metadata": {},
   "outputs": [
    {
     "data": {
      "text/plain": [
       "movie id        0\n",
       "movie title     0\n",
       "release date    0\n",
       "IMDb URL        0\n",
       "unknown         0\n",
       "Action          0\n",
       "Adventure       0\n",
       "Animation       0\n",
       "Children's      0\n",
       "Comedy          0\n",
       "Crime           0\n",
       "Documentary     0\n",
       "Drama           0\n",
       "Fantasy         0\n",
       "Film-Noir       0\n",
       "Horror          0\n",
       "Musical         0\n",
       "Mystery         0\n",
       "Romance         0\n",
       "Sci-Fi          0\n",
       "Thriller        0\n",
       "War             0\n",
       "Western         0\n",
       "dtype: int64"
      ]
     },
     "execution_count": 8,
     "metadata": {},
     "output_type": "execute_result"
    }
   ],
   "source": [
    "movies.drop(axis=1, labels='video release date', inplace=True)\n",
    "movies.dropna(axis=0, inplace=True)\n",
    "\n",
    "movies.isna().sum()"
   ]
  },
  {
   "cell_type": "markdown",
   "metadata": {},
   "source": [
    "### What is the genre with the largest and the smallest number of movies made?"
   ]
  },
  {
   "cell_type": "code",
   "execution_count": 9,
   "metadata": {},
   "outputs": [
    {
     "name": "stdout",
     "output_type": "stream",
     "text": [
      "The genre with the largest number of movies made is Drama\n",
      "The genre with the smallest number of movies made is Fantasy\n"
     ]
    }
   ],
   "source": [
    "genres = ['Action', 'Adventure', 'Animation', 'Children\\'s', 'Comedy', 'Crime', 'Documentary', 'Drama', 'Fantasy', 'Film-Noir',\n",
    "          'Horror', 'Musical', 'Mystery', 'Romance', 'Sci-Fi', 'Thriller', 'War', 'Western']\n",
    "\n",
    "print(f'The genre with the largest number of movies made is {movies[genres].sum().sort_values(ascending=False).index[0]}')\n",
    "print(f'The genre with the smallest number of movies made is {movies[genres].sum().sort_values(ascending=False).index[-1]}')"
   ]
  },
  {
   "cell_type": "markdown",
   "metadata": {},
   "source": [
    "### What is the genre with the biggest rating?"
   ]
  },
  {
   "cell_type": "code",
   "execution_count": 10,
   "metadata": {},
   "outputs": [
    {
     "name": "stdout",
     "output_type": "stream",
     "text": [
      "The genre with the biggest rating is Film-Noir\n"
     ]
    }
   ],
   "source": [
    "movie_ratings = ratings.merge(movies, on='movie id')\n",
    "genre_ratings = {}\n",
    "\n",
    "for genre in genres:\n",
    "    genre_ratings[genre] = movie_ratings[movie_ratings[genre] == 1]['rating'].mean()\n",
    "\n",
    "print(f'The genre with the biggest rating is {max(genre_ratings.items(), key=lambda x: x[1])[0]}')"
   ]
  },
  {
   "cell_type": "markdown",
   "metadata": {},
   "source": [
    "### What is the average number of ratings per movie and per user?"
   ]
  },
  {
   "cell_type": "code",
   "execution_count": 11,
   "metadata": {},
   "outputs": [
    {
     "name": "stdout",
     "output_type": "stream",
     "text": [
      "There are 100000 ratings, 943 unique users and 1682 unique movies\n",
      "\n",
      "Average number of ratings per movie 59.45\n",
      "Average number of ratings per user 106.04\n"
     ]
    }
   ],
   "source": [
    "n_ratings = len(ratings)\n",
    "n_unique_users = ratings['user id'].nunique() \n",
    "n_unique_movies = ratings['movie id'].nunique()\n",
    "\n",
    "print(f'There are {n_ratings} ratings, {n_unique_users} unique users and {n_unique_movies} unique movies\\n')\n",
    "print(f'Average number of ratings per movie {np.round(n_ratings/n_unique_movies, 2)}')\n",
    "print(f'Average number of ratings per user {np.round(n_ratings/n_unique_users, 2)}')"
   ]
  },
  {
   "cell_type": "code",
   "execution_count": 12,
   "metadata": {},
   "outputs": [
    {
     "data": {
      "image/png": "[encoded data removed]",
      "text/plain": [
       "<Figure size 1200x400 with 2 Axes>"
      ]
     },
     "metadata": {},
     "output_type": "display_data"
    }
   ],
   "source": [
    "plt.figure(figsize=(12,4))\n",
    "\n",
    "plt.subplot(1, 2, 1)\n",
    "sns.kdeplot(ratings.groupby('user id')['rating'].count(), fill=True)\n",
    "plt.xlim(0)\n",
    "plt.title('Number of ratings per movie')\n",
    "\n",
    "plt.subplot(1, 2, 2)\n",
    "sns.kdeplot(ratings.groupby('movie id')['rating'].count(), fill=True)\n",
    "plt.xlim(0)\n",
    "plt.title('Number of ratings per user')\n",
    "\n",
    "plt.show()"
   ]
  },
  {
   "cell_type": "markdown",
   "metadata": {},
   "source": [
    "### What is the most common rating?"
   ]
  },
  {
   "cell_type": "code",
   "execution_count": 13,
   "metadata": {},
   "outputs": [
    {
     "data": {
      "image/png": "[encoded data removed]",
      "text/plain": [
       "<Figure size 640x480 with 1 Axes>"
      ]
     },
     "metadata": {},
     "output_type": "display_data"
    }
   ],
   "source": [
    "sns.countplot(data=ratings, x='rating')\n",
    "plt.title('Distribution of movie ratings', fontsize=14)\n",
    "plt.show()"
   ]
  },
  {
   "cell_type": "markdown",
   "metadata": {},
   "source": [
    "Users rarely give movies low ratings like 1 and 2, they mostly give average or above average ratings of 3 and 4 respectively."
   ]
  },
  {
   "cell_type": "code",
   "execution_count": 14,
   "metadata": {},
   "outputs": [
    {
     "name": "stdout",
     "output_type": "stream",
     "text": [
      "Mean rating 3.53\n"
     ]
    }
   ],
   "source": [
    "print(f'Mean rating {round(ratings['rating'].mean(), 2)}')"
   ]
  },
  {
   "cell_type": "markdown",
   "metadata": {},
   "source": [
    "### In which year the largest amount of movies were released"
   ]
  },
  {
   "cell_type": "code",
   "execution_count": 29,
   "metadata": {},
   "outputs": [
    {
     "name": "stdout",
     "output_type": "stream",
     "text": [
      "0       1995\n",
      "1       1995\n",
      "2       1995\n",
      "3       1995\n",
      "4       1995\n",
      "        ... \n",
      "1677    1998\n",
      "1678    1998\n",
      "1679    1998\n",
      "1680    1994\n",
      "1681    1996\n",
      "Name: release date, Length: 1679, dtype: object\n",
      "The largest amount of movies were released in 1996 year\n"
     ]
    }
   ],
   "source": [
    "year_of_release = movies['release date'].apply(lambda x: x.split('-')[-1])\n",
    "\n",
    "print(f'The largest amount of movies were released in {year_of_release.value_counts().idxmax()} year')"
   ]
  },
  {
   "cell_type": "markdown",
   "metadata": {},
   "source": [
    "### Which movies are most frequently ranked?"
   ]
  },
  {
   "cell_type": "code",
   "execution_count": 16,
   "metadata": {},
   "outputs": [
    {
     "data": {
      "text/plain": [
       "movie title\n",
       "Star Wars (1977)                 583\n",
       "Contact (1997)                   509\n",
       "Fargo (1996)                     508\n",
       "Return of the Jedi (1983)        507\n",
       "Liar Liar (1997)                 485\n",
       "English Patient, The (1996)      481\n",
       "Scream (1996)                    478\n",
       "Toy Story (1995)                 452\n",
       "Air Force One (1997)             431\n",
       "Independence Day (ID4) (1996)    429\n",
       "Name: count, dtype: int64"
      ]
     },
     "execution_count": 16,
     "metadata": {},
     "output_type": "execute_result"
    }
   ],
   "source": [
    "movie_ratings['movie title'].value_counts()[:10]"
   ]
  },
  {
   "cell_type": "markdown",
   "metadata": {},
   "source": [
    "### What are the most high and most low ranked movies?"
   ]
  },
  {
   "cell_type": "code",
   "execution_count": 17,
   "metadata": {},
   "outputs": [
    {
     "name": "stdout",
     "output_type": "stream",
     "text": [
      "Movie with the highest score is \"Great Day in Harlem, A (1994)\"\n",
      "Movie with the lowest score is \"3 Ninjas: High Noon At Mega Mountain (1998)\"\n"
     ]
    }
   ],
   "source": [
    "mean_ratings = ratings.groupby('movie id')[['rating']].mean()\n",
    "\n",
    "print(f'Movie with the highest score is \\\"{movies[movies['movie id'] == mean_ratings['rating'].idxmax()][['movie title']].values[0][0]}\\\"')\n",
    "print(f'Movie with the lowest score is \\\"{movies[movies['movie id'] == mean_ratings['rating'].idxmin()][['movie title']].values[0][0]}\\\"')"
   ]
  },
  {
   "cell_type": "markdown",
   "metadata": {},
   "source": [
    "## KNN"
   ]
  },
  {
   "cell_type": "markdown",
   "metadata": {},
   "source": [
    "### Data preprocessing"
   ]
  },
  {
   "cell_type": "markdown",
   "metadata": {},
   "source": [
    "There are two common approaches to recommendation systems: collaborative and content-based filtering.\n",
    "\n",
    "Collaborative filtering is based on the idea that similar people like similar things.\n",
    "Content-based filtering considers items/users features.\n",
    "\n",
    "To generate recommendations for users, we are going to use colaborative filtering, since it is robust and easier to implement."
   ]
  },
  {
   "cell_type": "code",
   "execution_count": 18,
   "metadata": {},
   "outputs": [
    {
     "data": {
      "text/html": [
       "<div>\n",
       "<style scoped>\n",
       "    .dataframe tbody tr th:only-of-type {\n",
       "        vertical-align: middle;\n",
       "    }\n",
       "\n",
       "    .dataframe tbody tr th {\n",
       "        vertical-align: top;\n",
       "    }\n",
       "\n",
       "    .dataframe thead th {\n",
       "        text-align: right;\n",
       "    }\n",
       "</style>\n",
       "<table border=\"1\" class=\"dataframe\">\n",
       "  <thead>\n",
       "    <tr style=\"text-align: right;\">\n",
       "      <th>movie id</th>\n",
       "      <th>1</th>\n",
       "      <th>2</th>\n",
       "      <th>3</th>\n",
       "      <th>4</th>\n",
       "      <th>5</th>\n",
       "      <th>6</th>\n",
       "      <th>7</th>\n",
       "      <th>8</th>\n",
       "      <th>9</th>\n",
       "      <th>10</th>\n",
       "      <th>...</th>\n",
       "      <th>1673</th>\n",
       "      <th>1674</th>\n",
       "      <th>1675</th>\n",
       "      <th>1676</th>\n",
       "      <th>1677</th>\n",
       "      <th>1678</th>\n",
       "      <th>1679</th>\n",
       "      <th>1680</th>\n",
       "      <th>1681</th>\n",
       "      <th>1682</th>\n",
       "    </tr>\n",
       "    <tr>\n",
       "      <th>user id</th>\n",
       "      <th></th>\n",
       "      <th></th>\n",
       "      <th></th>\n",
       "      <th></th>\n",
       "      <th></th>\n",
       "      <th></th>\n",
       "      <th></th>\n",
       "      <th></th>\n",
       "      <th></th>\n",
       "      <th></th>\n",
       "      <th></th>\n",
       "      <th></th>\n",
       "      <th></th>\n",
       "      <th></th>\n",
       "      <th></th>\n",
       "      <th></th>\n",
       "      <th></th>\n",
       "      <th></th>\n",
       "      <th></th>\n",
       "      <th></th>\n",
       "      <th></th>\n",
       "    </tr>\n",
       "  </thead>\n",
       "  <tbody>\n",
       "    <tr>\n",
       "      <th>1</th>\n",
       "      <td>5.0</td>\n",
       "      <td>3.0</td>\n",
       "      <td>4.0</td>\n",
       "      <td>3.0</td>\n",
       "      <td>3.0</td>\n",
       "      <td>5.0</td>\n",
       "      <td>4.0</td>\n",
       "      <td>1.0</td>\n",
       "      <td>5.0</td>\n",
       "      <td>3.0</td>\n",
       "      <td>...</td>\n",
       "      <td>0.0</td>\n",
       "      <td>0.0</td>\n",
       "      <td>0.0</td>\n",
       "      <td>0.0</td>\n",
       "      <td>0.0</td>\n",
       "      <td>0.0</td>\n",
       "      <td>0.0</td>\n",
       "      <td>0.0</td>\n",
       "      <td>0.0</td>\n",
       "      <td>0.0</td>\n",
       "    </tr>\n",
       "    <tr>\n",
       "      <th>2</th>\n",
       "      <td>4.0</td>\n",
       "      <td>0.0</td>\n",
       "      <td>0.0</td>\n",
       "      <td>0.0</td>\n",
       "      <td>0.0</td>\n",
       "      <td>0.0</td>\n",
       "      <td>0.0</td>\n",
       "      <td>0.0</td>\n",
       "      <td>0.0</td>\n",
       "      <td>2.0</td>\n",
       "      <td>...</td>\n",
       "      <td>0.0</td>\n",
       "      <td>0.0</td>\n",
       "      <td>0.0</td>\n",
       "      <td>0.0</td>\n",
       "      <td>0.0</td>\n",
       "      <td>0.0</td>\n",
       "      <td>0.0</td>\n",
       "      <td>0.0</td>\n",
       "      <td>0.0</td>\n",
       "      <td>0.0</td>\n",
       "    </tr>\n",
       "    <tr>\n",
       "      <th>3</th>\n",
       "      <td>0.0</td>\n",
       "      <td>0.0</td>\n",
       "      <td>0.0</td>\n",
       "      <td>0.0</td>\n",
       "      <td>0.0</td>\n",
       "      <td>0.0</td>\n",
       "      <td>0.0</td>\n",
       "      <td>0.0</td>\n",
       "      <td>0.0</td>\n",
       "      <td>0.0</td>\n",
       "      <td>...</td>\n",
       "      <td>0.0</td>\n",
       "      <td>0.0</td>\n",
       "      <td>0.0</td>\n",
       "      <td>0.0</td>\n",
       "      <td>0.0</td>\n",
       "      <td>0.0</td>\n",
       "      <td>0.0</td>\n",
       "      <td>0.0</td>\n",
       "      <td>0.0</td>\n",
       "      <td>0.0</td>\n",
       "    </tr>\n",
       "    <tr>\n",
       "      <th>4</th>\n",
       "      <td>0.0</td>\n",
       "      <td>0.0</td>\n",
       "      <td>0.0</td>\n",
       "      <td>0.0</td>\n",
       "      <td>0.0</td>\n",
       "      <td>0.0</td>\n",
       "      <td>0.0</td>\n",
       "      <td>0.0</td>\n",
       "      <td>0.0</td>\n",
       "      <td>0.0</td>\n",
       "      <td>...</td>\n",
       "      <td>0.0</td>\n",
       "      <td>0.0</td>\n",
       "      <td>0.0</td>\n",
       "      <td>0.0</td>\n",
       "      <td>0.0</td>\n",
       "      <td>0.0</td>\n",
       "      <td>0.0</td>\n",
       "      <td>0.0</td>\n",
       "      <td>0.0</td>\n",
       "      <td>0.0</td>\n",
       "    </tr>\n",
       "    <tr>\n",
       "      <th>5</th>\n",
       "      <td>4.0</td>\n",
       "      <td>3.0</td>\n",
       "      <td>0.0</td>\n",
       "      <td>0.0</td>\n",
       "      <td>0.0</td>\n",
       "      <td>0.0</td>\n",
       "      <td>0.0</td>\n",
       "      <td>0.0</td>\n",
       "      <td>0.0</td>\n",
       "      <td>0.0</td>\n",
       "      <td>...</td>\n",
       "      <td>0.0</td>\n",
       "      <td>0.0</td>\n",
       "      <td>0.0</td>\n",
       "      <td>0.0</td>\n",
       "      <td>0.0</td>\n",
       "      <td>0.0</td>\n",
       "      <td>0.0</td>\n",
       "      <td>0.0</td>\n",
       "      <td>0.0</td>\n",
       "      <td>0.0</td>\n",
       "    </tr>\n",
       "    <tr>\n",
       "      <th>...</th>\n",
       "      <td>...</td>\n",
       "      <td>...</td>\n",
       "      <td>...</td>\n",
       "      <td>...</td>\n",
       "      <td>...</td>\n",
       "      <td>...</td>\n",
       "      <td>...</td>\n",
       "      <td>...</td>\n",
       "      <td>...</td>\n",
       "      <td>...</td>\n",
       "      <td>...</td>\n",
       "      <td>...</td>\n",
       "      <td>...</td>\n",
       "      <td>...</td>\n",
       "      <td>...</td>\n",
       "      <td>...</td>\n",
       "      <td>...</td>\n",
       "      <td>...</td>\n",
       "      <td>...</td>\n",
       "      <td>...</td>\n",
       "      <td>...</td>\n",
       "    </tr>\n",
       "    <tr>\n",
       "      <th>939</th>\n",
       "      <td>0.0</td>\n",
       "      <td>0.0</td>\n",
       "      <td>0.0</td>\n",
       "      <td>0.0</td>\n",
       "      <td>0.0</td>\n",
       "      <td>0.0</td>\n",
       "      <td>0.0</td>\n",
       "      <td>0.0</td>\n",
       "      <td>5.0</td>\n",
       "      <td>0.0</td>\n",
       "      <td>...</td>\n",
       "      <td>0.0</td>\n",
       "      <td>0.0</td>\n",
       "      <td>0.0</td>\n",
       "      <td>0.0</td>\n",
       "      <td>0.0</td>\n",
       "      <td>0.0</td>\n",
       "      <td>0.0</td>\n",
       "      <td>0.0</td>\n",
       "      <td>0.0</td>\n",
       "      <td>0.0</td>\n",
       "    </tr>\n",
       "    <tr>\n",
       "      <th>940</th>\n",
       "      <td>0.0</td>\n",
       "      <td>0.0</td>\n",
       "      <td>0.0</td>\n",
       "      <td>2.0</td>\n",
       "      <td>0.0</td>\n",
       "      <td>0.0</td>\n",
       "      <td>4.0</td>\n",
       "      <td>5.0</td>\n",
       "      <td>3.0</td>\n",
       "      <td>0.0</td>\n",
       "      <td>...</td>\n",
       "      <td>0.0</td>\n",
       "      <td>0.0</td>\n",
       "      <td>0.0</td>\n",
       "      <td>0.0</td>\n",
       "      <td>0.0</td>\n",
       "      <td>0.0</td>\n",
       "      <td>0.0</td>\n",
       "      <td>0.0</td>\n",
       "      <td>0.0</td>\n",
       "      <td>0.0</td>\n",
       "    </tr>\n",
       "    <tr>\n",
       "      <th>941</th>\n",
       "      <td>5.0</td>\n",
       "      <td>0.0</td>\n",
       "      <td>0.0</td>\n",
       "      <td>0.0</td>\n",
       "      <td>0.0</td>\n",
       "      <td>0.0</td>\n",
       "      <td>4.0</td>\n",
       "      <td>0.0</td>\n",
       "      <td>0.0</td>\n",
       "      <td>0.0</td>\n",
       "      <td>...</td>\n",
       "      <td>0.0</td>\n",
       "      <td>0.0</td>\n",
       "      <td>0.0</td>\n",
       "      <td>0.0</td>\n",
       "      <td>0.0</td>\n",
       "      <td>0.0</td>\n",
       "      <td>0.0</td>\n",
       "      <td>0.0</td>\n",
       "      <td>0.0</td>\n",
       "      <td>0.0</td>\n",
       "    </tr>\n",
       "    <tr>\n",
       "      <th>942</th>\n",
       "      <td>0.0</td>\n",
       "      <td>0.0</td>\n",
       "      <td>0.0</td>\n",
       "      <td>0.0</td>\n",
       "      <td>0.0</td>\n",
       "      <td>0.0</td>\n",
       "      <td>0.0</td>\n",
       "      <td>0.0</td>\n",
       "      <td>0.0</td>\n",
       "      <td>0.0</td>\n",
       "      <td>...</td>\n",
       "      <td>0.0</td>\n",
       "      <td>0.0</td>\n",
       "      <td>0.0</td>\n",
       "      <td>0.0</td>\n",
       "      <td>0.0</td>\n",
       "      <td>0.0</td>\n",
       "      <td>0.0</td>\n",
       "      <td>0.0</td>\n",
       "      <td>0.0</td>\n",
       "      <td>0.0</td>\n",
       "    </tr>\n",
       "    <tr>\n",
       "      <th>943</th>\n",
       "      <td>0.0</td>\n",
       "      <td>5.0</td>\n",
       "      <td>0.0</td>\n",
       "      <td>0.0</td>\n",
       "      <td>0.0</td>\n",
       "      <td>0.0</td>\n",
       "      <td>0.0</td>\n",
       "      <td>0.0</td>\n",
       "      <td>3.0</td>\n",
       "      <td>0.0</td>\n",
       "      <td>...</td>\n",
       "      <td>0.0</td>\n",
       "      <td>0.0</td>\n",
       "      <td>0.0</td>\n",
       "      <td>0.0</td>\n",
       "      <td>0.0</td>\n",
       "      <td>0.0</td>\n",
       "      <td>0.0</td>\n",
       "      <td>0.0</td>\n",
       "      <td>0.0</td>\n",
       "      <td>0.0</td>\n",
       "    </tr>\n",
       "  </tbody>\n",
       "</table>\n",
       "<p>943 rows × 1679 columns</p>\n",
       "</div>"
      ],
      "text/plain": [
       "movie id  1     2     3     4     5     6     7     8     9     10    ...  \\\n",
       "user id                                                               ...   \n",
       "1          5.0   3.0   4.0   3.0   3.0   5.0   4.0   1.0   5.0   3.0  ...   \n",
       "2          4.0   0.0   0.0   0.0   0.0   0.0   0.0   0.0   0.0   2.0  ...   \n",
       "3          0.0   0.0   0.0   0.0   0.0   0.0   0.0   0.0   0.0   0.0  ...   \n",
       "4          0.0   0.0   0.0   0.0   0.0   0.0   0.0   0.0   0.0   0.0  ...   \n",
       "5          4.0   3.0   0.0   0.0   0.0   0.0   0.0   0.0   0.0   0.0  ...   \n",
       "...        ...   ...   ...   ...   ...   ...   ...   ...   ...   ...  ...   \n",
       "939        0.0   0.0   0.0   0.0   0.0   0.0   0.0   0.0   5.0   0.0  ...   \n",
       "940        0.0   0.0   0.0   2.0   0.0   0.0   4.0   5.0   3.0   0.0  ...   \n",
       "941        5.0   0.0   0.0   0.0   0.0   0.0   4.0   0.0   0.0   0.0  ...   \n",
       "942        0.0   0.0   0.0   0.0   0.0   0.0   0.0   0.0   0.0   0.0  ...   \n",
       "943        0.0   5.0   0.0   0.0   0.0   0.0   0.0   0.0   3.0   0.0  ...   \n",
       "\n",
       "movie id  1673  1674  1675  1676  1677  1678  1679  1680  1681  1682  \n",
       "user id                                                               \n",
       "1          0.0   0.0   0.0   0.0   0.0   0.0   0.0   0.0   0.0   0.0  \n",
       "2          0.0   0.0   0.0   0.0   0.0   0.0   0.0   0.0   0.0   0.0  \n",
       "3          0.0   0.0   0.0   0.0   0.0   0.0   0.0   0.0   0.0   0.0  \n",
       "4          0.0   0.0   0.0   0.0   0.0   0.0   0.0   0.0   0.0   0.0  \n",
       "5          0.0   0.0   0.0   0.0   0.0   0.0   0.0   0.0   0.0   0.0  \n",
       "...        ...   ...   ...   ...   ...   ...   ...   ...   ...   ...  \n",
       "939        0.0   0.0   0.0   0.0   0.0   0.0   0.0   0.0   0.0   0.0  \n",
       "940        0.0   0.0   0.0   0.0   0.0   0.0   0.0   0.0   0.0   0.0  \n",
       "941        0.0   0.0   0.0   0.0   0.0   0.0   0.0   0.0   0.0   0.0  \n",
       "942        0.0   0.0   0.0   0.0   0.0   0.0   0.0   0.0   0.0   0.0  \n",
       "943        0.0   0.0   0.0   0.0   0.0   0.0   0.0   0.0   0.0   0.0  \n",
       "\n",
       "[943 rows x 1679 columns]"
      ]
     },
     "execution_count": 18,
     "metadata": {},
     "output_type": "execute_result"
    }
   ],
   "source": [
    "# We merge the ratings, movies and users datasets to create a matrix with user ratings for each movie\n",
    "movies_and_users = pd.merge(movie_ratings, users, on='user id')\n",
    "movies_and_users = movies_and_users.pivot(index='user id', columns='movie id', values='rating').fillna(0)\n",
    "\n",
    "movies_and_users"
   ]
  },
  {
   "cell_type": "code",
   "execution_count": 19,
   "metadata": {},
   "outputs": [
    {
     "name": "stdout",
     "output_type": "stream",
     "text": [
      "  (0, 0)\t5.0\n",
      "  (0, 1)\t3.0\n",
      "  (0, 2)\t4.0\n",
      "  (0, 3)\t3.0\n",
      "  (0, 4)\t3.0\n",
      "  (0, 5)\t5.0\n",
      "  (0, 6)\t4.0\n",
      "  (0, 7)\t1.0\n",
      "  (0, 8)\t5.0\n",
      "  (0, 9)\t3.0\n",
      "  (0, 10)\t2.0\n",
      "  (0, 11)\t5.0\n",
      "  (0, 12)\t5.0\n",
      "  (0, 13)\t5.0\n",
      "  (0, 14)\t5.0\n",
      "  (0, 15)\t5.0\n",
      "  (0, 16)\t3.0\n",
      "  (0, 17)\t4.0\n",
      "  (0, 18)\t5.0\n",
      "  (0, 19)\t4.0\n",
      "  (0, 20)\t1.0\n",
      "  (0, 21)\t4.0\n",
      "  (0, 22)\t4.0\n",
      "  (0, 23)\t3.0\n",
      "  (0, 24)\t4.0\n",
      "  :\t:\n",
      "  (942, 737)\t4.0\n",
      "  (942, 754)\t2.0\n",
      "  (942, 761)\t4.0\n",
      "  (942, 763)\t3.0\n",
      "  (942, 783)\t2.0\n",
      "  (942, 792)\t3.0\n",
      "  (942, 794)\t3.0\n",
      "  (942, 806)\t4.0\n",
      "  (942, 814)\t4.0\n",
      "  (942, 822)\t4.0\n",
      "  (942, 823)\t3.0\n",
      "  (942, 829)\t2.0\n",
      "  (942, 838)\t4.0\n",
      "  (942, 926)\t5.0\n",
      "  (942, 939)\t1.0\n",
      "  (942, 941)\t5.0\n",
      "  (942, 1009)\t2.0\n",
      "  (942, 1026)\t2.0\n",
      "  (942, 1042)\t3.0\n",
      "  (942, 1045)\t2.0\n",
      "  (942, 1065)\t2.0\n",
      "  (942, 1072)\t4.0\n",
      "  (942, 1186)\t3.0\n",
      "  (942, 1226)\t3.0\n",
      "  (942, 1328)\t3.0\n"
     ]
    }
   ],
   "source": [
    "from scipy.sparse import csr_matrix\n",
    "\n",
    "matrix_movies_users = csr_matrix(movies_and_users.values)\n",
    "\n",
    "print(matrix_movies_users)"
   ]
  },
  {
   "cell_type": "markdown",
   "metadata": {},
   "source": [
    "### Model"
   ]
  },
  {
   "cell_type": "code",
   "execution_count": 20,
   "metadata": {},
   "outputs": [],
   "source": [
    "from sklearn.neighbors import NearestNeighbors\n",
    "\n",
    "def find_similar(movie_id, data, k):\n",
    "    '''\n",
    "    Finds 10 most similar movies\n",
    "\n",
    "    Args:\n",
    "        movie_id: int the id of a movie for which we want to find similar movies\n",
    "        data: a sparse matrix of user/movie data with collaborative filtering applied\n",
    "        model: a kNN model to select k similar movies\n",
    "\n",
    "    Returns:\n",
    "        similar_movies: a list of similar movies' titles\n",
    "    '''\n",
    "\n",
    "    # Defining model\n",
    "    knn = NearestNeighbors(metric='euclidean', algorithm='brute', n_neighbors=k+1)\n",
    "\n",
    "    # Training model\n",
    "    knn.fit(data)\n",
    "\n",
    "    # Getting indeces of the most similar movies\n",
    "    _, indices = knn.kneighbors(data[movie_id], n_neighbors=k+1)\n",
    "\n",
    "    similar_movies = [movies['movie title'][i] for i in indices[0][1:]]\n",
    "\n",
    "    return similar_movies"
   ]
  },
  {
   "cell_type": "markdown",
   "metadata": {},
   "source": [
    "### Testing"
   ]
  },
  {
   "cell_type": "code",
   "execution_count": 21,
   "metadata": {},
   "outputs": [
    {
     "name": "stdout",
     "output_type": "stream",
     "text": [
      "Selected movie: Pulp Fiction (1994)\n",
      "\n",
      "Similar movies: \n",
      "Silence of the Lambs, The (1991)\n",
      "Fugitive, The (1993)\n",
      "Usual Suspects, The (1995)\n",
      "Back to the Future (1985)\n",
      "Seven (Se7en) (1995)\n",
      "Raiders of the Lost Ark (1981)\n",
      "Terminator, The (1984)\n",
      "Terminator 2: Judgment Day (1991)\n",
      "GoodFellas (1990)\n",
      "Get Shorty (1995)\n",
      "\n",
      "Selected movie: Star Wars (1977)\n",
      "\n",
      "Similar movies: \n",
      "Return of the Jedi (1983)\n",
      "Raiders of the Lost Ark (1981)\n",
      "Empire Strikes Back, The (1980)\n",
      "Toy Story (1995)\n",
      "Independence Day (ID4) (1996)\n",
      "Indiana Jones and the Last Crusade (1989)\n",
      "Godfather, The (1972)\n",
      "Star Trek: First Contact (1996)\n",
      "Back to the Future (1985)\n",
      "Silence of the Lambs, The (1991)\n",
      "\n",
      "Selected movie: Taxi Driver (1976)\n",
      "\n",
      "Similar movies: \n",
      "Raging Bull (1980)\n",
      "Touch of Evil (1958)\n",
      "Candidate, The (1972)\n",
      "Crumb (1994)\n",
      "Great Escape, The (1963)\n",
      "Crossing Guard, The (1995)\n",
      "Red Rock West (1992)\n",
      "Day the Earth Stood Still, The (1951)\n",
      "Candyman (1992)\n",
      "Adventures of Robin Hood, The (1938)\n",
      "\n",
      "Selected movie: One Flew Over the Cuckoo's Nest (1975)\n",
      "\n",
      "Similar movies: \n",
      "Tango Lesson, The (1997)\n",
      "Year of the Horse (1997)\n",
      "Ransom (1996)\n",
      "Blood Beach (1981)\n",
      "Leading Man, The (1996)\n",
      "Devil in a Blue Dress (1995)\n",
      "Stupids, The (1996)\n",
      "Beverly Hills Ninja (1997)\n",
      "Selena (1997)\n",
      "Street Fighter (1994)\n",
      "\n"
     ]
    }
   ],
   "source": [
    "movies_for_testing = ['Pulp Fiction', 'Star Wars', 'Taxi Driver', 'One flew over the cuckoo\\'s nest']\n",
    "\n",
    "for movie in movies_for_testing:\n",
    "    # We are finding the most similar title to the one entered in movie_name\n",
    "    idx = process.extractOne(movie, movies['movie title'])[2]\n",
    "\n",
    "    print(f'Selected movie: {movies.loc[idx,'movie title']}\\n')\n",
    "\n",
    "    results = find_similar(idx, matrix_movies_users.T, 10)\n",
    "\n",
    "    print('Similar movies: ')\n",
    "\n",
    "    for result in results:\n",
    "        print(result)\n",
    "    \n",
    "    print()"
   ]
  },
  {
   "cell_type": "markdown",
   "metadata": {},
   "source": [
    "## SVD"
   ]
  },
  {
   "cell_type": "markdown",
   "metadata": {},
   "source": [
    "### Data preprocessing"
   ]
  },
  {
   "cell_type": "markdown",
   "metadata": {},
   "source": [
    "Matrix factorization is a linear algebra technique which helps us get the more compact representation of user tastes and item descriptions by finding latent features.\n",
    "\n",
    "It is particularly useful for a sparse data.\n",
    "\n",
    "The algorithm factorizes the original user-item matrix into two factor matrices:\n",
    "* user-factor matrix (n_users, k)\n",
    "* item-factor matrix (k, n_items)"
   ]
  },
  {
   "cell_type": "markdown",
   "metadata": {},
   "source": [
    "We will have to define a new matrix using mapping so that our reduced matrix of movies and users could be interpretable."
   ]
  },
  {
   "cell_type": "code",
   "execution_count": 22,
   "metadata": {},
   "outputs": [],
   "source": [
    "def create_matrix(data):\n",
    "    '''\n",
    "        Creates a user-movie sparse matri with mappers\n",
    "\n",
    "        Args:\n",
    "            data: pandas.DataFrame with user and movie ids\n",
    "\n",
    "        Returns:\n",
    "            sparse_matrix: a sparse matrix of user/movie data with collaborative filtering applied\n",
    "            user_mapper: dict that maps user id's to user indices\n",
    "            movie_mapper: dict that maps movie id's to movie indices\n",
    "            user_inv_mapper: dict that maps user indices to user id's\n",
    "            movie_inv_mapper: dict that maps movie indices to movie id'\n",
    "    '''\n",
    "    \n",
    "    n_unique_users = data['user id'].nunique()\n",
    "    n_unique_movies = data['movie id'].nunique()\n",
    "\n",
    "    user_mapper = dict(zip(np.unique(data['user id']), list(range(n_unique_users))))\n",
    "    movie_mapper = dict(zip(np.unique(data['movie id']), list(range(n_unique_movies))))\n",
    "\n",
    "    user_inv_mapper = dict(zip(list(range(n_unique_users)), np.unique(data['user id'])))\n",
    "    movie_inv_mapper = dict(zip(list(range(n_unique_movies)), np.unique(data['movie id'])))\n",
    "\n",
    "    user_idx = [user_mapper[i] for i in data['user id']]\n",
    "    movie_idx = [movie_mapper[i] for i in data['movie id']]\n",
    "\n",
    "    sparse_matrix = csr_matrix((data['rating'], (user_idx, movie_idx)), shape=(n_unique_users, n_unique_movies))\n",
    "\n",
    "    return sparse_matrix, user_mapper, movie_mapper, user_inv_mapper, movie_inv_mapper"
   ]
  },
  {
   "cell_type": "code",
   "execution_count": 23,
   "metadata": {},
   "outputs": [],
   "source": [
    "movie_user_ratings = pd.merge(movie_ratings, users, on='user id')\n",
    "\n",
    "sparse_matrix, user_mapper, movie_mapper, user_inv_mapper, movie_inv_mapper = create_matrix(movie_user_ratings)"
   ]
  },
  {
   "cell_type": "code",
   "execution_count": 24,
   "metadata": {},
   "outputs": [
    {
     "data": {
      "text/plain": [
       "(1679, 20)"
      ]
     },
     "execution_count": 24,
     "metadata": {},
     "output_type": "execute_result"
    }
   ],
   "source": [
    "from sklearn.decomposition import TruncatedSVD\n",
    "\n",
    "svd = TruncatedSVD(n_components=20, n_iter=10)\n",
    "Q = svd.fit_transform(sparse_matrix.T)\n",
    "\n",
    "Q.shape"
   ]
  },
  {
   "cell_type": "code",
   "execution_count": 25,
   "metadata": {},
   "outputs": [],
   "source": [
    "def recommend(movie_id, sparse_matrix, movie_mapper, movie_inv_mapper, k):\n",
    "    '''\n",
    "        Gives back a list of movie ids that are the most similar to the movie of interest\n",
    "\n",
    "        Args:\n",
    "            movie_id: int the id of a movie for which we want to find similar movies\n",
    "            sparse_matrix: a sparse matrix of user/movie data with collaborative filtering applied\n",
    "            movie_mapper: dict that maps movie ids to movie indices\n",
    "            movie_inv_mapper: dict that maps movie indices to movie ids\n",
    "            k: int the number of similar movies to be found\n",
    "\n",
    "        Returns:\n",
    "            neighbours_ids: a list of similar movies' ids\n",
    "    '''\n",
    "\n",
    "    sparse_matrix = sparse_matrix.T\n",
    "    neighbours_ids = []\n",
    "\n",
    "    movie_idx = movie_mapper[movie_id]\n",
    "    movie_vec = sparse_matrix[movie_idx]\n",
    "    if isinstance(movie_vec, np.ndarray):\n",
    "        movie_vec = movie_vec.reshape(1, -1)\n",
    "    \n",
    "    knn = NearestNeighbors(metric='euclidean', algorithm='brute', n_neighbors=k+1)\n",
    "    knn.fit(sparse_matrix)\n",
    "\n",
    "    neighbour = knn.kneighbors(movie_vec, return_distance=False)\n",
    "    \n",
    "    for i in range(k):\n",
    "        n = neighbour.item(i)\n",
    "        neighbours_ids.append(movie_inv_mapper[n])\n",
    "    \n",
    "    neighbours_ids = neighbours_ids[1:]\n",
    "\n",
    "    return neighbours_ids"
   ]
  },
  {
   "cell_type": "code",
   "execution_count": 26,
   "metadata": {},
   "outputs": [
    {
     "name": "stdout",
     "output_type": "stream",
     "text": [
      "Selected movie: Pulp Fiction (1994)\n",
      "\n",
      "Similar movies: \n",
      "True Romance (1993)\n",
      "Army of Darkness (1993)\n",
      "Reservoir Dogs (1992)\n",
      "Natural Born Killers (1994)\n",
      "From Dusk Till Dawn (1996)\n",
      "Crow, The (1994)\n",
      "Desperado (1995)\n",
      "Strange Days (1995)\n",
      "Casino (1995)\n",
      "\n",
      "Selected movie: Star Wars (1977)\n",
      "\n",
      "Similar movies: \n",
      "French Kiss (1995)\n",
      "Nine Months (1995)\n",
      "Forget Paris (1995)\n",
      "It Could Happen to You (1994)\n",
      "Dirty Dancing (1987)\n",
      "Brady Bunch Movie, The (1995)\n",
      "So I Married an Axe Murderer (1993)\n",
      "Tommy Boy (1995)\n",
      "Junior (1994)\n",
      "\n",
      "Selected movie: Taxi Driver (1976)\n",
      "\n",
      "Similar movies: \n",
      "Fugitive, The (1993)\n",
      "Terminator 2: Judgment Day (1991)\n",
      "Terminator, The (1984)\n",
      "Hunt for Red October, The (1990)\n",
      "Shawshank Redemption, The (1994)\n",
      "Speed (1994)\n",
      "Forrest Gump (1994)\n",
      "Apollo 13 (1995)\n",
      "Schindler's List (1993)\n",
      "\n",
      "Selected movie: One Flew Over the Cuckoo's Nest (1975)\n",
      "\n",
      "Similar movies: \n",
      "Outbreak (1995)\n",
      "Legends of the Fall (1994)\n",
      "Dolores Claiborne (1994)\n",
      "Nell (1994)\n",
      "Rudy (1993)\n",
      "Murder in the First (1995)\n",
      "Man Without a Face, The (1993)\n",
      "Firm, The (1993)\n",
      "Dirty Dancing (1987)\n",
      "\n"
     ]
    }
   ],
   "source": [
    "movies_for_testing = ['Pulp Fiction', 'Star Wars', 'Taxi Driver', 'One flew over the cuckoo\\'s nest']\n",
    "\n",
    "for movie in movies_for_testing:\n",
    "    # We are finding the most similar title to the one entered in movie_name\n",
    "    idx = process.extractOne(movie, movies['movie title'])[2]\n",
    "\n",
    "    print(f'Selected movie: {movies.loc[idx,'movie title']}\\n')\n",
    "\n",
    "    results = recommend(idx, Q.T, movie_mapper, movie_inv_mapper, 10)\n",
    "\n",
    "    print('Similar movies: ')\n",
    "\n",
    "    for result in results:\n",
    "        print(movies[movies['movie id'] == result]['movie title'].values[0])\n",
    "    \n",
    "    print()"
   ]
  }
 ],
 "metadata": {
  "kernelspec": {
   "display_name": ".venv",
   "language": "python",
   "name": "python3"
  },
  "language_info": {
   "codemirror_mode": {
    "name": "ipython",
    "version": 3
   },
   "file_extension": ".py",
   "mimetype": "text/x-python",
   "name": "python",
   "nbconvert_exporter": "python",
   "pygments_lexer": "ipython3",
   "version": "3.12.1"
  }
 },
 "nbformat": 4,
 "nbformat_minor": 2
}
